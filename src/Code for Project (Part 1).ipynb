{
 "cells": [
  {
   "cell_type": "code",
   "execution_count": 3,
   "id": "58fde79c",
   "metadata": {},
   "outputs": [],
   "source": [
    "import cvxpy as cp\n",
    "import numpy as np\n",
    "import pandas as pd\n",
    "import matplotlib.pyplot as plt\n",
    "import gurobipy"
   ]
  },
  {
   "cell_type": "code",
   "execution_count": 4,
   "id": "8cd54189",
   "metadata": {},
   "outputs": [],
   "source": [
    "demand = pd.read_csv(\"demand.csv\")\n",
    "generator = pd.read_csv(\"generator_data.csv\")\n",
    "windCF = pd.read_csv(\"windCF.csv\")\n",
    "generator = generator.set_axis([\"Num\",\"Loc\",\"Capacity\",\"MinGen\",\"FuelType\",\"MinUp\",\"MinDown\",\"RR\",\"SC\",\"NLC\",\"a\",\"b\"], axis = 1)\n"
   ]
  },
  {
   "cell_type": "code",
   "execution_count": 5,
   "id": "09600d71",
   "metadata": {},
   "outputs": [],
   "source": [
    "def optimize(Scen, Wind_Cap):\n",
    "    chosen_demand_ex = demand[demand[\"Scenarios\"] == Scen]\n",
    "    chosen_windCF_ex = windCF[windCF[\"Scenarios\"] == Scen]\n",
    "    \n",
    "    MC      = np.array(generator['a'])   # first-order marginal generator cost\n",
    "    MC2     = np.array(generator['b'])   # second-order marginal cost\n",
    "    NLC     = np.array(generator['NLC'])  # no load cost\n",
    "    SUC     = np.array(generator['SC'])  # start up cost\n",
    "    GenMin  = np.array(generator['MinGen'])   # minium generation\n",
    "    GenMax  = np.array(generator['Capacity'])  # maximum generation\n",
    "    MinUp   = np.array(generator['MinUp'])\n",
    "    MinDown  = np.array(generator['MinDown'])\n",
    "    RR      = np.array(generator['RR'])  # ramp rate\n",
    "    LOAD    = np.array(chosen_demand_ex['Total']) # demand\n",
    "    CF      = np.array(chosen_windCF_ex['WindCF']) # capacity factor\n",
    "    W       = Wind_Cap # installed wind turbine nameplate power\n",
    "    \n",
    "    g = cp.Variable((76,96), nonneg = True)   # generator dispatch\n",
    "    wt = cp.Variable(96, nonneg = True)   # wind energy dispatch\n",
    "    u = cp.Variable((76,96), boolean = True)   # commitment status\n",
    "    v = cp.Variable((76,96), boolean = True)   # start-up status\n",
    "    z = cp.Variable((76,96), boolean = True)   # close status\n",
    "    obj = cp.Minimize(sum(MC @ g + MC2 @ (g**2) + NLC @ u + SUC @ v))\n",
    "    \n",
    "    # Initialize an empty constraint set\n",
    "    con_set_1 = []  \n",
    "\n",
    "    # power balance constraint, supply equals demand\n",
    "    con_set_1.append( LOAD == sum(g) + wt ) # demand balance constraint\n",
    "    con_set_1.append( wt <= CF * W ) # wind electricity is less than the product of capacity factor and nameplate power\n",
    "\n",
    "    # use a for loop to define the unit constriant over each time period\n",
    "    for t in range(96):  # go through each period\n",
    "        for i in range(76):  # go through each  generator\n",
    "            con_set_1.append(g[i][t] <= GenMax[i] * u[i][t])  # maximum generation limits\n",
    "            con_set_1.append(g[i][t] >= GenMin[i] * u[i][t])  # minimum generation limits\n",
    "            con_set_1.append(v[i][t] + z[i][t] <= 1)  # a generator is off this hour could not be turned on in this hour, in order to solve the problem that the generators with 0 start up costs would be turned on every hour without running\n",
    "\n",
    "    for t in range(96):\n",
    "        for i in range(76):\n",
    "            if t == 0:\n",
    "                con_set_1.append(v[i][t] == u[i][t])\n",
    "            else:\n",
    "                con_set_1.append(g[i][t] - g[i][t-1] <= RR[i] + GenMin[i] * v[i][t])\n",
    "                con_set_1.append(g[i][t] - g[i][t-1] >= -RR[i])\n",
    "                con_set_1.append(v[i][t] - z[i][t] == u[i][t] - u[i][t-1])\n",
    "\n",
    "    for t in range(96):\n",
    "        for i in range(76):\n",
    "            con_set_1.append(sum([v[i][t-k] for k in range(max(t-MinUp[i],1))]) <= u[i][t])\n",
    "            con_set_1.append(sum([z[i][t-k] for k in range(max(t-MinDown[i],1))]) <= 1 - u[i][t])\n",
    "\n",
    "    prob1 = cp.Problem(obj, con_set_1)\n",
    "    prob1.solve(solver = \"GUROBI\")\n",
    "    prob1.solve();\n",
    "    \n",
    "    GT = pd.DataFrame(g.value)\n",
    "    UT = pd.DataFrame(u.value)\n",
    "    VT = pd.DataFrame(v.value)\n",
    "    \n",
    "    # define a new set of generation variable for the pricing problem\n",
    "    gp = cp.Variable((76,96), nonneg = True)   # generator dispatch\n",
    "    wtp = cp.Variable(96, nonneg = True)\n",
    "    # the new objective function.\n",
    "    obj2 = cp.Minimize(sum(MC @ gp + MC2 @ (gp**2) + NLC @ u.value + SUC @ v.value))\n",
    "\n",
    "    # Initialize an empty constraint set\n",
    "    con_set_2 = []  \n",
    "\n",
    "    # power balance constraint, supply equals demand\n",
    "    con_set_2.append( LOAD == sum(gp) + wtp ) # demand balance constraint\n",
    "    con_set_2.append( wtp <= CF * W )\n",
    "    \n",
    "    # use a for loop to define the unit constriant over each time period\n",
    "    for t in range(96):  # go through each period\n",
    "        for i in range(76):  # go through each  generator\n",
    "            con_set_2.append(gp[i][t] <= GenMax[i] * u.value[i][t])  # maximum generation limits\n",
    "            con_set_2.append(gp[i][t] >= GenMin[i] * u.value[i][t])  # minimum generation limits\n",
    "\n",
    "    for t in range(96):\n",
    "        for i in range(76):\n",
    "            if t:\n",
    "                con_set_2.append(gp[i][t] - gp[i][t-1] <= RR[i] + GenMin[i] * v.value[i][t])\n",
    "                con_set_2.append(gp[i][t] - gp[i][t-1] >= -RR[i])\n",
    "            \n",
    "    prob2 = cp.Problem(obj2, con_set_2)\n",
    "    prob2.solve(solver = \"GUROBI\")\n",
    "\n",
    "    MP = -con_set_2[0].dual_value \n",
    "    \n",
    "    daily_operation_cost = prob1.value / 4\n",
    "    daily_price = np.mean(MP)\n",
    "    daily_profit = sum(MP * LOAD) / 4 - daily_operation_cost\n",
    "\n",
    "    return [GT, UT, VT, daily_operation_cost, daily_price, daily_profit]\n"
   ]
  },
  {
   "cell_type": "code",
   "execution_count": 14,
   "id": "4eb6a741",
   "metadata": {},
   "outputs": [],
   "source": [
    "Scen = 66\n",
    "\n",
    "wind_CAP = [12000, 16000]\n",
    "GT_result = []\n",
    "UT_result = []\n",
    "VT_result = []\n",
    "daily_operation_cost_result = []\n",
    "daily_price_result = []\n",
    "daily_profit_result = []\n",
    "actual_wind_CAP = []\n",
    "\n",
    "for i_cap in wind_CAP:\n",
    "    [A, B, C, D, E, F] = optimize(Scen, i_cap)\n",
    "    GT_result.append(A)\n",
    "    UT_result.append(B)\n",
    "    VT_result.append(C)\n",
    "    daily_operation_cost_result.append(D)\n",
    "    daily_price_result.append(E)\n",
    "    daily_profit_result.append(F)\n",
    "    actual_wind_CAP.append(i_cap)"
   ]
  },
  {
   "cell_type": "code",
   "execution_count": 15,
   "id": "8cd065dc",
   "metadata": {},
   "outputs": [],
   "source": [
    "for i in range(len(GT_result)):    \n",
    "    GT_result[i].to_csv(str(\"%.0f_GT_%.0f.csv\"% (Scen,actual_wind_CAP[i])))"
   ]
  },
  {
   "cell_type": "code",
   "execution_count": 16,
   "id": "5de3c43a",
   "metadata": {},
   "outputs": [],
   "source": [
    "for i in range(len(UT_result)):    \n",
    "    UT_result[i].to_csv(str(\"%.0f_UT_%.0f.csv\"% (Scen,actual_wind_CAP[i])))\n",
    "    VT_result[i].to_csv(str(\"%.0f_VT_%.0f.csv\"% (Scen,actual_wind_CAP[i])))"
   ]
  },
  {
   "cell_type": "code",
   "execution_count": 9,
   "id": "e2e0ebbe",
   "metadata": {},
   "outputs": [],
   "source": [
    "market_result = pd.DataFrame()\n",
    "market_result[\"operating cost\"] = daily_operation_cost_result\n",
    "market_result[\"price\"] = daily_price_result\n",
    "market_result[\"profit\"] = daily_profit_result"
   ]
  },
  {
   "cell_type": "code",
   "execution_count": 10,
   "id": "448d7f3c",
   "metadata": {},
   "outputs": [],
   "source": [
    "market_result.index = actual_wind_CAP"
   ]
  },
  {
   "cell_type": "code",
   "execution_count": 11,
   "id": "801b979c",
   "metadata": {},
   "outputs": [
    {
     "data": {
      "text/html": [
       "<div>\n",
       "<style scoped>\n",
       "    .dataframe tbody tr th:only-of-type {\n",
       "        vertical-align: middle;\n",
       "    }\n",
       "\n",
       "    .dataframe tbody tr th {\n",
       "        vertical-align: top;\n",
       "    }\n",
       "\n",
       "    .dataframe thead th {\n",
       "        text-align: right;\n",
       "    }\n",
       "</style>\n",
       "<table border=\"1\" class=\"dataframe\">\n",
       "  <thead>\n",
       "    <tr style=\"text-align: right;\">\n",
       "      <th></th>\n",
       "      <th>operating cost</th>\n",
       "      <th>price</th>\n",
       "      <th>profit</th>\n",
       "    </tr>\n",
       "  </thead>\n",
       "  <tbody>\n",
       "    <tr>\n",
       "      <th>24000</th>\n",
       "      <td>7.122939e+06</td>\n",
       "      <td>37.312819</td>\n",
       "      <td>6.042834e+06</td>\n",
       "    </tr>\n",
       "    <tr>\n",
       "      <th>28000</th>\n",
       "      <td>6.954133e+06</td>\n",
       "      <td>36.023552</td>\n",
       "      <td>5.799682e+06</td>\n",
       "    </tr>\n",
       "    <tr>\n",
       "      <th>32000</th>\n",
       "      <td>6.809309e+06</td>\n",
       "      <td>35.066962</td>\n",
       "      <td>5.608630e+06</td>\n",
       "    </tr>\n",
       "  </tbody>\n",
       "</table>\n",
       "</div>"
      ],
      "text/plain": [
       "       operating cost      price        profit\n",
       "24000    7.122939e+06  37.312819  6.042834e+06\n",
       "28000    6.954133e+06  36.023552  5.799682e+06\n",
       "32000    6.809309e+06  35.066962  5.608630e+06"
      ]
     },
     "execution_count": 11,
     "metadata": {},
     "output_type": "execute_result"
    }
   ],
   "source": [
    "market_result"
   ]
  },
  {
   "cell_type": "code",
   "execution_count": 12,
   "id": "4437548d",
   "metadata": {},
   "outputs": [],
   "source": [
    "market_result.to_csv(\"%.0f_market_result.csv\"%Scen)"
   ]
  },
  {
   "cell_type": "code",
   "execution_count": null,
   "id": "7cf646a4",
   "metadata": {},
   "outputs": [],
   "source": []
  }
 ],
 "metadata": {
  "kernelspec": {
   "display_name": "Python 3",
   "language": "python",
   "name": "python3"
  },
  "language_info": {
   "codemirror_mode": {
    "name": "ipython",
    "version": 3
   },
   "file_extension": ".py",
   "mimetype": "text/x-python",
   "name": "python",
   "nbconvert_exporter": "python",
   "pygments_lexer": "ipython3",
   "version": "3.8.8"
  }
 },
 "nbformat": 4,
 "nbformat_minor": 5
}
