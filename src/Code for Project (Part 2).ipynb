{
 "cells": [
  {
   "cell_type": "code",
   "execution_count": 1,
   "id": "a3530393",
   "metadata": {},
   "outputs": [],
   "source": [
    "import cvxpy as cp\n",
    "import numpy as np\n",
    "import pandas as pd\n",
    "import matplotlib.pyplot as plt\n",
    "import gurobipy"
   ]
  },
  {
   "cell_type": "code",
   "execution_count": 2,
   "id": "bbcb3c35",
   "metadata": {},
   "outputs": [],
   "source": [
    "demand = pd.read_csv(\"demand.csv\")\n",
    "generator = pd.read_csv(\"generator_data.csv\")\n",
    "windCF = pd.read_csv(\"windCF.csv\")\n",
    "generator = generator.set_axis([\"Num\",\"Loc\",\"Capacity\",\"MinGen\",\"FuelType\",\"MinUp\",\"MinDown\",\"RR\",\"SC\",\"NLC\",\"a\",\"b\"], axis = 1)\n",
    "\n",
    "generator = generator.drop(generator[generator[\"FuelType\"] == \" BIT \"].index)\n",
    "generator = generator.drop(generator[generator[\"FuelType\"] == \" SUB \"].index)\n",
    "\n"
   ]
  },
  {
   "cell_type": "code",
   "execution_count": 3,
   "id": "a0ce5e5a",
   "metadata": {},
   "outputs": [],
   "source": [
    "def optimize2(Scen, Wind_Cap):\n",
    "    chosen_demand_ex = demand[demand[\"Scenarios\"] == Scen]\n",
    "    chosen_windCF_ex = windCF[windCF[\"Scenarios\"] == Scen]\n",
    "    \n",
    "    MC      = np.array(generator['a'])   # first-order marginal generator cost\n",
    "    MC2     = np.array(generator['b'])   # second-order marginal cost\n",
    "    NLC     = np.array(generator['NLC'])  # no load cost\n",
    "    SUC     = np.array(generator['SC'])  # start up cost\n",
    "    GenMin  = np.array(generator['MinGen'])   # minium generation\n",
    "    GenMax  = np.array(generator['Capacity'])  # maximum generation\n",
    "    MinUp   = np.array(generator['MinUp'])\n",
    "    MinDown = np.array(generator['MinDown'])\n",
    "    RR      = np.array(generator['RR'])  # ramp rate\n",
    "    LOAD    = np.array(chosen_demand_ex['Total']) # demand\n",
    "    CF      = np.array(chosen_windCF_ex['WindCF']) # capacity factor\n",
    "    W       = Wind_Cap # installed wind turbine nameplate power\n",
    "    \n",
    "    g = cp.Variable((65,96), nonneg = True)   # generator dispatch\n",
    "    wt = cp.Variable(96, nonneg = True)   # wind energy dispatch\n",
    "    u = cp.Variable((65,96), boolean = True)   # commitment status\n",
    "    v = cp.Variable((65,96), boolean = True)   # start-up status\n",
    "    z = cp.Variable((65,96), boolean = True)   # close status\n",
    "    obj = cp.Minimize(sum(MC @ g + MC2 @ (g**2) + NLC @ u + SUC @ v))\n",
    "    \n",
    "    # Initialize an empty constraint set\n",
    "    con_set_1 = []  \n",
    "\n",
    "    # power balance constraint, supply equals demand\n",
    "    con_set_1.append( LOAD == sum(g) + wt ) # demand balance constraint\n",
    "    con_set_1.append( wt <= CF * W ) # wind electricity is less than the product of capacity factor and nameplate power\n",
    "\n",
    "    # use a for loop to define the unit constriant over each time period\n",
    "    for t in range(96):  # go through each period\n",
    "        for i in range(65):  # go through each  generator\n",
    "            con_set_1.append(g[i][t] <= GenMax[i] * u[i][t])  # maximum generation limits\n",
    "            con_set_1.append(g[i][t] >= GenMin[i] * u[i][t])  # minimum generation limits\n",
    "            con_set_1.append(v[i][t] + z[i][t] <= 1)  # a generator is off this hour could not be turned on in this hour, in order to solve the problem that the generators with 0 start up costs would be turned on every hour without running\n",
    "\n",
    "    for t in range(96):\n",
    "        for i in range(65):\n",
    "            if t == 0:\n",
    "                con_set_1.append(v[i][t] == u[i][t])\n",
    "            else:\n",
    "                con_set_1.append(g[i][t] - g[i][t-1] <= RR[i] + GenMin[i] * v[i][t])\n",
    "                con_set_1.append(g[i][t] - g[i][t-1] >= -RR[i])\n",
    "                con_set_1.append(v[i][t] - z[i][t] == u[i][t] - u[i][t-1])\n",
    "\n",
    "    for t in range(96):\n",
    "        for i in range(65):\n",
    "            con_set_1.append(sum([v[i][t-k] for k in range(max(t-MinUp[i],1))]) <= u[i][t])\n",
    "            con_set_1.append(sum([z[i][t-k] for k in range(max(t-MinDown[i],1))]) <= 1 - u[i][t])\n",
    "\n",
    "    prob1 = cp.Problem(obj, con_set_1)\n",
    "    prob1.solve(solver = \"GUROBI\", MIPGap = 0.05)\n",
    "    \n",
    "    GT = pd.DataFrame(g.value)\n",
    "    UT = pd.DataFrame(u.value)\n",
    "    VT = pd.DataFrame(v.value)\n",
    "    \n",
    "    daily_operation_cost = prob1.value / 4\n",
    "\n",
    "    return [GT, UT, VT, daily_operation_cost]"
   ]
  },
  {
   "cell_type": "code",
   "execution_count": 4,
   "id": "a2dc67b6",
   "metadata": {},
   "outputs": [
    {
     "name": "stdout",
     "output_type": "stream",
     "text": [
      "Academic license - for non-commercial use only - expires 2022-10-27\n",
      "Using license file /Users/shentianxiao/gurobi.lic\n"
     ]
    }
   ],
   "source": [
    "Scen = 64\n",
    "\n",
    "wind_CAP = [0,1000,2000,4000,8000,12000,16000, 20000, 24000, 28000, 32000]\n",
    "GT_result = []\n",
    "UT_result = []\n",
    "VT_result = []\n",
    "daily_operation_cost_result = []\n",
    "actual_wind_CAP = []\n",
    "\n",
    "for i_cap in wind_CAP:\n",
    "    [A, B, C, D] = optimize2(Scen, i_cap)\n",
    "    GT_result.append(A)\n",
    "    UT_result.append(B)\n",
    "    VT_result.append(C)\n",
    "    daily_operation_cost_result.append(D)\n",
    "    actual_wind_CAP.append(i_cap)"
   ]
  },
  {
   "cell_type": "code",
   "execution_count": 5,
   "id": "a1913afc",
   "metadata": {},
   "outputs": [],
   "source": [
    "for i in range(len(GT_result)):    \n",
    "    GT_result[i].to_csv(str(\"%.0f_GT2_%.0f.csv\"% (Scen,actual_wind_CAP[i])))"
   ]
  },
  {
   "cell_type": "code",
   "execution_count": 6,
   "id": "61f74417",
   "metadata": {},
   "outputs": [],
   "source": [
    "for i in range(len(UT_result)):    \n",
    "    UT_result[i].to_csv(str(\"%.0f_UT2_%.0f.csv\"% (Scen,actual_wind_CAP[i])))\n",
    "    VT_result[i].to_csv(str(\"%.0f_VT2_%.0f.csv\"% (Scen,actual_wind_CAP[i])))"
   ]
  },
  {
   "cell_type": "code",
   "execution_count": 7,
   "id": "0992e125",
   "metadata": {},
   "outputs": [],
   "source": [
    "market_result = pd.DataFrame()\n",
    "market_result[\"operating cost\"] = daily_operation_cost_result"
   ]
  },
  {
   "cell_type": "code",
   "execution_count": 8,
   "id": "73eb5eea",
   "metadata": {},
   "outputs": [],
   "source": [
    "market_result.index = actual_wind_CAP"
   ]
  },
  {
   "cell_type": "code",
   "execution_count": 9,
   "id": "54a30b4d",
   "metadata": {},
   "outputs": [],
   "source": [
    "market_result.to_csv(\"%.0f_market_result2.csv\"% Scen)"
   ]
  },
  {
   "cell_type": "code",
   "execution_count": null,
   "id": "ddb4a9f3",
   "metadata": {},
   "outputs": [],
   "source": []
  }
 ],
 "metadata": {
  "kernelspec": {
   "display_name": "Python 3",
   "language": "python",
   "name": "python3"
  },
  "language_info": {
   "codemirror_mode": {
    "name": "ipython",
    "version": 3
   },
   "file_extension": ".py",
   "mimetype": "text/x-python",
   "name": "python",
   "nbconvert_exporter": "python",
   "pygments_lexer": "ipython3",
   "version": "3.8.8"
  }
 },
 "nbformat": 4,
 "nbformat_minor": 5
}
