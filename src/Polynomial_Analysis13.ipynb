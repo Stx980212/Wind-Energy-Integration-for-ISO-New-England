{
 "cells": [
  {
   "cell_type": "code",
   "execution_count": 34,
   "id": "7a52de8f",
   "metadata": {},
   "outputs": [
    {
     "data": {
      "text/html": [
       "<div>\n",
       "<style scoped>\n",
       "    .dataframe tbody tr th:only-of-type {\n",
       "        vertical-align: middle;\n",
       "    }\n",
       "\n",
       "    .dataframe tbody tr th {\n",
       "        vertical-align: top;\n",
       "    }\n",
       "\n",
       "    .dataframe thead th {\n",
       "        text-align: right;\n",
       "    }\n",
       "</style>\n",
       "<table border=\"1\" class=\"dataframe\">\n",
       "  <thead>\n",
       "    <tr style=\"text-align: right;\">\n",
       "      <th></th>\n",
       "      <th>Unnamed: 0</th>\n",
       "      <th>operating cost</th>\n",
       "    </tr>\n",
       "  </thead>\n",
       "  <tbody>\n",
       "    <tr>\n",
       "      <th>0</th>\n",
       "      <td>0</td>\n",
       "      <td>1.465999e+07</td>\n",
       "    </tr>\n",
       "    <tr>\n",
       "      <th>1</th>\n",
       "      <td>1000</td>\n",
       "      <td>1.417375e+07</td>\n",
       "    </tr>\n",
       "    <tr>\n",
       "      <th>2</th>\n",
       "      <td>2000</td>\n",
       "      <td>1.348379e+07</td>\n",
       "    </tr>\n",
       "    <tr>\n",
       "      <th>3</th>\n",
       "      <td>4000</td>\n",
       "      <td>1.274772e+07</td>\n",
       "    </tr>\n",
       "    <tr>\n",
       "      <th>4</th>\n",
       "      <td>8000</td>\n",
       "      <td>1.131740e+07</td>\n",
       "    </tr>\n",
       "    <tr>\n",
       "      <th>5</th>\n",
       "      <td>12000</td>\n",
       "      <td>1.019457e+07</td>\n",
       "    </tr>\n",
       "    <tr>\n",
       "      <th>6</th>\n",
       "      <td>16000</td>\n",
       "      <td>9.467836e+06</td>\n",
       "    </tr>\n",
       "    <tr>\n",
       "      <th>7</th>\n",
       "      <td>20000</td>\n",
       "      <td>8.719118e+06</td>\n",
       "    </tr>\n",
       "    <tr>\n",
       "      <th>8</th>\n",
       "      <td>24000</td>\n",
       "      <td>8.229957e+06</td>\n",
       "    </tr>\n",
       "    <tr>\n",
       "      <th>9</th>\n",
       "      <td>28000</td>\n",
       "      <td>7.844419e+06</td>\n",
       "    </tr>\n",
       "    <tr>\n",
       "      <th>10</th>\n",
       "      <td>32000</td>\n",
       "      <td>7.525267e+06</td>\n",
       "    </tr>\n",
       "  </tbody>\n",
       "</table>\n",
       "</div>"
      ],
      "text/plain": [
       "    Unnamed: 0  operating cost\n",
       "0            0    1.465999e+07\n",
       "1         1000    1.417375e+07\n",
       "2         2000    1.348379e+07\n",
       "3         4000    1.274772e+07\n",
       "4         8000    1.131740e+07\n",
       "5        12000    1.019457e+07\n",
       "6        16000    9.467836e+06\n",
       "7        20000    8.719118e+06\n",
       "8        24000    8.229957e+06\n",
       "9        28000    7.844419e+06\n",
       "10       32000    7.525267e+06"
      ]
     },
     "metadata": {},
     "output_type": "display_data"
    }
   ],
   "source": [
    "import numpy as np\n",
    "import matplotlib.pyplot as plt\n",
    "import pandas as pd\n",
    "from sklearn.linear_model import LinearRegression\n",
    "from sklearn.preprocessing import PolynomialFeatures\n",
    "from sklearn.linear_model import Ridge\n",
    "from sklearn.pipeline import make_pipeline\n",
    "Scen = 22\n",
    "ori_da=pd.read_csv('%.0f_market_result.csv'%Scen)\n",
    "data=pd.read_csv('%.0f_market_result2.csv'%Scen)\n",
    "display(data)"
   ]
  },
  {
   "cell_type": "code",
   "execution_count": 35,
   "id": "fa49d850",
   "metadata": {},
   "outputs": [],
   "source": [
    "x = data.iloc[:,0].values\n",
    "y = data.iloc[:,1].values\n"
   ]
  },
  {
   "cell_type": "code",
   "execution_count": 36,
   "id": "d3db0271",
   "metadata": {},
   "outputs": [
    {
     "name": "stderr",
     "output_type": "stream",
     "text": [
      "C:\\Users\\10290\\Desktop\\ZYX\\conda\\lib\\site-packages\\sklearn\\linear_model\\_ridge.py:147: LinAlgWarning: Ill-conditioned matrix (rcond=8.62576e-37): result may not be accurate.\n",
      "  return linalg.solve(A, Xy, sym_pos=True,\n"
     ]
    }
   ],
   "source": [
    "x_plot = np.linspace(0,max(x),100)\n",
    "X = x[:,np.newaxis]\n",
    "X_plot = x_plot[:,np.newaxis]\n",
    "base_line=ori_da.iloc[0][1]\n",
    "model = make_pipeline(PolynomialFeatures(4),Ridge())\n",
    "model.fit(X,y)\n",
    "y_plot=model.predict(X_plot)"
   ]
  },
  {
   "cell_type": "code",
   "execution_count": 37,
   "id": "d35865fd",
   "metadata": {
    "scrolled": true
   },
   "outputs": [
    {
     "data": {
      "image/png": "[encoded data removed]",
      "text/plain": [
       "<Figure size 432x288 with 1 Axes>"
      ]
     },
     "metadata": {
      "needs_background": "light"
     },
     "output_type": "display_data"
    }
   ],
   "source": [
    "fig = plt.figure()\n",
    "ax = fig.add_subplot(111)\n",
    "ax.grid()\n",
    "ax.set_xlabel(\"Wind Capacity (MWh)\")\n",
    "ax.set_ylabel(r\"Operating Cost (million $)\")\n",
    "plt.scatter(x,y/1000000, label=\"Operating Cost %.0f - Low D, High CF\"%Scen)\n",
    "\n",
    "plt.plot(x_plot,y_plot/1000000,label='Polynomial Regression')\n",
    "plt.title(\"Operating Cost of Scenario %.0f with no coal generator (million $)\"%Scen)\n",
    "plt.axhline(y=base_line/1000000, color='r', linestyle=(0, (5, 5)),label='Referential Operating Cost')\n",
    "plt.legend()\n",
    "plt.savefig(\"Scenario_%.0f_operating_cost(phaseout).jpg\"%Scen, dpi = 800)"
   ]
  },
  {
   "cell_type": "code",
   "execution_count": 38,
   "id": "20e333fc",
   "metadata": {},
   "outputs": [
    {
     "name": "stdout",
     "output_type": "stream",
     "text": [
      "[ 0.00000000e+00 -5.63819472e+02  2.19008385e-02 -5.38050239e-07\n",
      "  5.84777674e-12]\n"
     ]
    }
   ],
   "source": [
    "ridge= model.named_steps['ridge']\n",
    "print(ridge.coef_)"
   ]
  },
  {
   "cell_type": "code",
   "execution_count": 39,
   "id": "4fec37c1",
   "metadata": {},
   "outputs": [
    {
     "data": {
      "text/plain": [
       "array([14141.65384292-31145.02226803j, 14141.65384292+31145.02226803j,\n",
       "       16291.2250331     +0.j        , 47434.78951576    +0.j        ])"
      ]
     },
     "execution_count": 39,
     "metadata": {},
     "output_type": "execute_result"
    }
   ],
   "source": [
    "from numpy.polynomial import Polynomial as P\n",
    "p=P.fit(x,y,4)\n",
    "(p-base_line).roots()"
   ]
  },
  {
   "cell_type": "code",
   "execution_count": null,
   "id": "a8bac027",
   "metadata": {},
   "outputs": [],
   "source": []
  },
  {
   "cell_type": "code",
   "execution_count": null,
   "id": "2d7210c6",
   "metadata": {},
   "outputs": [],
   "source": []
  }
 ],
 "metadata": {
  "kernelspec": {
   "display_name": "Python 3",
   "language": "python",
   "name": "python3"
  },
  "language_info": {
   "codemirror_mode": {
    "name": "ipython",
    "version": 3
   },
   "file_extension": ".py",
   "mimetype": "text/x-python",
   "name": "python",
   "nbconvert_exporter": "python",
   "pygments_lexer": "ipython3",
   "version": "3.8.8"
  }
 },
 "nbformat": 4,
 "nbformat_minor": 5
}
